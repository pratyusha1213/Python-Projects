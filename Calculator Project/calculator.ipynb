{
 "cells": [
  {
   "cell_type": "code",
   "execution_count": 1,
   "id": "d5077052",
   "metadata": {},
   "outputs": [],
   "source": [
    "from calculator import Calculator"
   ]
  },
  {
   "cell_type": "code",
   "execution_count": 2,
   "id": "18e0d7a0",
   "metadata": {},
   "outputs": [],
   "source": [
    "calc = Calculator()"
   ]
  },
  {
   "cell_type": "code",
   "execution_count": 3,
   "id": "6b92efbe",
   "metadata": {},
   "outputs": [
    {
     "data": {
      "text/plain": [
       "5"
      ]
     },
     "execution_count": 3,
     "metadata": {},
     "output_type": "execute_result"
    }
   ],
   "source": [
    "calc.add(5)"
   ]
  },
  {
   "cell_type": "code",
   "execution_count": 4,
   "id": "ed78a1a0",
   "metadata": {},
   "outputs": [
    {
     "data": {
      "text/plain": [
       "2"
      ]
     },
     "execution_count": 4,
     "metadata": {},
     "output_type": "execute_result"
    }
   ],
   "source": [
    "calc.subtract(3)"
   ]
  },
  {
   "cell_type": "code",
   "execution_count": 5,
   "id": "f443fead",
   "metadata": {},
   "outputs": [
    {
     "data": {
      "text/plain": [
       "8"
      ]
     },
     "execution_count": 5,
     "metadata": {},
     "output_type": "execute_result"
    }
   ],
   "source": [
    "calc.multiply(4)"
   ]
  },
  {
   "cell_type": "code",
   "execution_count": 6,
   "id": "b6a9d30e",
   "metadata": {},
   "outputs": [
    {
     "data": {
      "text/plain": [
       "4.0"
      ]
     },
     "execution_count": 6,
     "metadata": {},
     "output_type": "execute_result"
    }
   ],
   "source": [
    "calc.divide(2)"
   ]
  },
  {
   "cell_type": "code",
   "execution_count": 7,
   "id": "53c63a2a",
   "metadata": {},
   "outputs": [
    {
     "data": {
      "text/plain": [
       "2.0"
      ]
     },
     "execution_count": 7,
     "metadata": {},
     "output_type": "execute_result"
    }
   ],
   "source": [
    "calc.take_root(2)"
   ]
  },
  {
   "cell_type": "code",
   "execution_count": 8,
   "id": "cb2acc17",
   "metadata": {},
   "outputs": [],
   "source": [
    "calc.reset_memory()"
   ]
  },
  {
   "cell_type": "code",
   "execution_count": 9,
   "id": "1648926b",
   "metadata": {},
   "outputs": [
    {
     "name": "stdout",
     "output_type": "stream",
     "text": [
      "Addition Result: 10\n",
      "Addition Result: 15\n",
      "Subtraction Result: 12\n",
      "Multiplication Result: 24\n",
      "Division Result: 6.0\n",
      "Root Result: 2.449489742783178\n",
      "Memory after reset: 0\n"
     ]
    }
   ],
   "source": [
    "\n",
    "### 5. Demonstrating in a Jupyter Notebook\n",
    "\n",
    "\n",
    "# Demonstrating the Calculator Module\n",
    "\n",
    "# Import the Calculator class\n",
    "from calculator import Calculator\n",
    "\n",
    "# Create an instance of Calculator\n",
    "calc = Calculator()\n",
    "\n",
    "# Show addition\n",
    "print(\"Addition Result:\", calc.add(10))  # Output should be 10\n",
    "print(\"Addition Result:\", calc.add(5))   # Output should be 15\n",
    "\n",
    "# Show subtraction\n",
    "print(\"Subtraction Result:\", calc.subtract(3))  # Output should be 12\n",
    "\n",
    "# Show multiplication\n",
    "print(\"Multiplication Result:\", calc.multiply(2))  # Output should be 24\n",
    "\n",
    "# Show division\n",
    "print(\"Division Result:\", calc.divide(4))  # Output should be 6\n",
    "\n",
    "# Show taking root\n",
    "print(\"Root Result:\", calc.take_root(2))  # Output should be sqrt(6)\n",
    "\n",
    "# Show resetting memory\n",
    "calc.reset_memory()\n",
    "print(\"Memory after reset:\", calc.memory)  # Output should be 0\n"
   ]
  },
  {
   "cell_type": "code",
   "execution_count": null,
   "id": "6cde31df",
   "metadata": {},
   "outputs": [],
   "source": []
  }
 ],
 "metadata": {
  "kernelspec": {
   "display_name": "Python 3 (ipykernel)",
   "language": "python",
   "name": "python3"
  },
  "language_info": {
   "codemirror_mode": {
    "name": "ipython",
    "version": 3
   },
   "file_extension": ".py",
   "mimetype": "text/x-python",
   "name": "python",
   "nbconvert_exporter": "python",
   "pygments_lexer": "ipython3",
   "version": "3.11.7"
  }
 },
 "nbformat": 4,
 "nbformat_minor": 5
}
